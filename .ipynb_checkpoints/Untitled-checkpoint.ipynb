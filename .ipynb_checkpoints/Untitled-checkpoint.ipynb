{
 "cells": [
  {
   "cell_type": "code",
   "execution_count": 1,
   "id": "13b7d1d4-1eca-4acb-a6b4-c1b530f863e5",
   "metadata": {},
   "outputs": [],
   "source": [
    "str='I am Eshaan Singla.'"
   ]
  },
  {
   "cell_type": "code",
   "execution_count": 3,
   "id": "55a0496c-50c4-4323-abee-4d1e47c0e221",
   "metadata": {},
   "outputs": [
    {
     "data": {
      "text/plain": [
       "'I am Eshaan Singla.'"
      ]
     },
     "execution_count": 3,
     "metadata": {},
     "output_type": "execute_result"
    }
   ],
   "source": [
    "str"
   ]
  },
  {
   "cell_type": "code",
   "execution_count": 13,
   "id": "4dede026-c66d-4a12-aa08-b93b02bb5f8a",
   "metadata": {},
   "outputs": [
    {
     "data": {
      "text/plain": [
       "'I am Eshaan'"
      ]
     },
     "execution_count": 13,
     "metadata": {},
     "output_type": "execute_result"
    }
   ],
   "source": [
    "str[:-8]"
   ]
  },
  {
   "cell_type": "code",
   "execution_count": 15,
   "id": "f057d967-8fac-47e8-968e-d9d9bc6a8344",
   "metadata": {},
   "outputs": [
    {
     "data": {
      "text/plain": [
       "'Ia sanSnl.'"
      ]
     },
     "execution_count": 15,
     "metadata": {},
     "output_type": "execute_result"
    }
   ],
   "source": [
    "str[::2]"
   ]
  },
  {
   "cell_type": "code",
   "execution_count": 17,
   "id": "fe64fff0-9103-457e-87aa-30cbd7e09574",
   "metadata": {},
   "outputs": [
    {
     "data": {
      "text/plain": [
       "'I am Eshaan Singla.'"
      ]
     },
     "execution_count": 17,
     "metadata": {},
     "output_type": "execute_result"
    }
   ],
   "source": [
    "str[::]"
   ]
  },
  {
   "cell_type": "code",
   "execution_count": null,
   "id": "2df068e9-2b56-4f45-9ebe-f0cfa0c81e6d",
   "metadata": {},
   "outputs": [],
   "source": [
    "str[::]"
   ]
  }
 ],
 "metadata": {
  "kernelspec": {
   "display_name": "Python 3 (ipykernel)",
   "language": "python",
   "name": "python3"
  },
  "language_info": {
   "codemirror_mode": {
    "name": "ipython",
    "version": 3
   },
   "file_extension": ".py",
   "mimetype": "text/x-python",
   "name": "python",
   "nbconvert_exporter": "python",
   "pygments_lexer": "ipython3",
   "version": "3.12.7"
  }
 },
 "nbformat": 4,
 "nbformat_minor": 5
}
