{
 "cells": [
  {
   "cell_type": "code",
   "execution_count": 2,
   "metadata": {},
   "outputs": [
    {
     "name": "stdout",
     "output_type": "stream",
     "text": [
      "Requirement already satisfied: apyori in c:\\users\\eshaa\\anaconda3\\lib\\site-packages (1.1.2)\n",
      "Note: you may need to restart the kernel to use updated packages.\n"
     ]
    }
   ],
   "source": [
    "%pip install apyori"
   ]
  },
  {
   "cell_type": "code",
   "execution_count": 3,
   "metadata": {},
   "outputs": [],
   "source": [
    "import pandas as pd\n",
    "import numpy as np\n",
    "import matplotlib.pyplot as plt"
   ]
  },
  {
   "cell_type": "code",
   "execution_count": 7,
   "metadata": {},
   "outputs": [],
   "source": [
    "dataset=pd.read_csv('Market_Basket_Optimisation.csv',header=None)\n",
    "transactions=[]\n",
    "for i in range(0,7501):\n",
    "    transactions.append([str(dataset.values[i,j]) for j in range (0,20)])"
   ]
  },
  {
   "cell_type": "code",
   "execution_count": 9,
   "metadata": {},
   "outputs": [],
   "source": [
    "from apyori import apriori\n",
    "ap=apriori(transactions=transactions,min_support=0.003,min_confidence=0.2,min_lift=3,min_length=2,max_length=2)\n",
    "results=list(ap)"
   ]
  },
  {
   "cell_type": "code",
   "execution_count": 10,
   "metadata": {},
   "outputs": [],
   "source": [
    "def inspect(results):\n",
    "    lhs         = [tuple(result[2][0][0])[0] for result in results]\n",
    "    rhs         = [tuple(result[2][0][1])[0] for result in results]\n",
    "    supports    = [result[1] for result in results]\n",
    "    confidences = [result[2][0][2] for result in results]\n",
    "    lifts       = [result[2][0][3] for result in results]\n",
    "    return list(zip(lhs, rhs, supports, confidences, lifts))\n",
    "resultsinDataFrame = pd.DataFrame(inspect(results), columns = ['Left Hand Side', 'Right Hand Side', 'Support', 'Confidence', 'Lift'])"
   ]
  },
  {
   "cell_type": "code",
   "execution_count": 14,
   "metadata": {},
   "outputs": [
    {
     "name": "stdout",
     "output_type": "stream",
     "text": [
      "         Left Hand Side Right Hand Side   Support  Confidence      Lift\n",
      "3         fromage blanc           honey  0.003333    0.245098  5.164271\n",
      "0           light cream         chicken  0.004533    0.290598  4.843951\n",
      "2                 pasta        escalope  0.005866    0.372881  4.700812\n",
      "8                 pasta          shrimp  0.005066    0.322034  4.506672\n",
      "7     whole wheat pasta       olive oil  0.007999    0.271493  4.122410\n",
      "5          tomato sauce     ground beef  0.005333    0.377358  3.840659\n",
      "1  mushroom cream sauce        escalope  0.005733    0.300699  3.790833\n",
      "4         herb & pepper     ground beef  0.015998    0.323450  3.291994\n",
      "6           light cream       olive oil  0.003200    0.205128  3.114710\n"
     ]
    }
   ],
   "source": [
    "print(resultsinDataFrame.nlargest(n=10,columns='Lift'))"
   ]
  }
 ],
 "metadata": {
  "kernelspec": {
   "display_name": "base",
   "language": "python",
   "name": "python3"
  },
  "language_info": {
   "codemirror_mode": {
    "name": "ipython",
    "version": 3
   },
   "file_extension": ".py",
   "mimetype": "text/x-python",
   "name": "python",
   "nbconvert_exporter": "python",
   "pygments_lexer": "ipython3",
   "version": "3.12.7"
  }
 },
 "nbformat": 4,
 "nbformat_minor": 2
}
