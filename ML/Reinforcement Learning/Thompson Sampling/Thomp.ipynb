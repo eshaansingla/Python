{
 "cells": [
  {
   "cell_type": "code",
   "execution_count": 30,
   "metadata": {},
   "outputs": [],
   "source": [
    "import pandas as pd\n",
    "import numpy as np\n",
    "import matplotlib.pyplot as plt"
   ]
  },
  {
   "cell_type": "code",
   "execution_count": 31,
   "metadata": {},
   "outputs": [
    {
     "name": "stdout",
     "output_type": "stream",
     "text": [
      "      Ad 1  Ad 2  Ad 3  Ad 4  Ad 5  Ad 6  Ad 7  Ad 8  Ad 9  Ad 10\n",
      "0        1     0     0     0     1     0     0     0     1      0\n",
      "1        0     0     0     0     0     0     0     0     1      0\n",
      "2        0     0     0     0     0     0     0     0     0      0\n",
      "3        0     1     0     0     0     0     0     1     0      0\n",
      "4        0     0     0     0     0     0     0     0     0      0\n",
      "...    ...   ...   ...   ...   ...   ...   ...   ...   ...    ...\n",
      "9995     0     0     1     0     0     0     0     1     0      0\n",
      "9996     0     0     0     0     0     0     0     0     0      0\n",
      "9997     0     0     0     0     0     0     0     0     0      0\n",
      "9998     1     0     0     0     0     0     0     1     0      0\n",
      "9999     0     1     0     0     0     0     0     0     0      0\n",
      "\n",
      "[10000 rows x 10 columns]\n"
     ]
    }
   ],
   "source": [
    "dataset=pd.read_csv('Ads_CTR_Optimisation.csv')\n",
    "print(dataset)"
   ]
  },
  {
   "cell_type": "code",
   "execution_count": 32,
   "metadata": {},
   "outputs": [],
   "source": [
    "import random\n",
    "N=500\n",
    "d=10\n",
    "rewfor1=[0]*d\n",
    "rewfor0=[0]*d\n",
    "ad_selected=[]\n",
    "tol_rew=0\n",
    "reward=0\n",
    "for n in range(0,N):\n",
    "    max_random=0\n",
    "    ad=0\n",
    "    for i in range(0,d):\n",
    "        beta=random.betavariate(rewfor1[i]+1,rewfor0[i]+1)\n",
    "        if beta>max_random:\n",
    "            ad=i\n",
    "            max_random=beta\n",
    "    ad_selected.append(ad)\n",
    "    reward=dataset.values[n,ad]\n",
    "    if reward==1:\n",
    "        rewfor1[ad]=rewfor1[ad]+1\n",
    "    else:\n",
    "        rewfor0[ad]=rewfor0[ad]+1\n",
    "    tol_rew=tol_rew+reward"
   ]
  },
  {
   "cell_type": "code",
   "execution_count": 33,
   "metadata": {},
   "outputs": [
    {
     "name": "stdout",
     "output_type": "stream",
     "text": [
      "[2, 0, 3, 4, 8, 7, 1, 4, 6, 1, 9, 4, 0, 9, 5, 5, 6, 2, 8, 1, 0, 3, 5, 7, 3, 4, 7, 7, 7, 7, 4, 0, 8, 4, 7, 7, 7, 7, 2, 7, 4, 7, 8, 7, 4, 7, 7, 7, 5, 4, 4, 4, 7, 9, 7, 9, 9, 1, 4, 2, 7, 7, 4, 9, 7, 0, 4, 4, 2, 4, 7, 9, 5, 2, 4, 7, 4, 4, 8, 4, 8, 7, 9, 7, 4, 3, 3, 4, 4, 7, 7, 8, 0, 6, 6, 6, 4, 3, 3, 3, 3, 7, 7, 3, 3, 7, 4, 0, 5, 0, 4, 4, 3, 1, 7, 7, 0, 7, 6, 7, 6, 7, 4, 7, 6, 7, 7, 4, 0, 1, 1, 6, 0, 4, 5, 4, 3, 7, 3, 0, 4, 7, 0, 0, 4, 4, 4, 6, 3, 6, 7, 4, 7, 4, 6, 4, 7, 3, 4, 2, 5, 7, 4, 8, 4, 9, 5, 6, 7, 6, 0, 6, 7, 1, 1, 4, 3, 3, 0, 4, 4, 0, 0, 4, 6, 4, 6, 7, 7, 4, 4, 7, 4, 8, 0, 4, 4, 4, 4, 4, 4, 7, 1, 4, 4, 3, 6, 4, 4, 2, 9, 7, 7, 7, 3, 4, 4, 4, 7, 9, 0, 4, 7, 7, 7, 4, 7, 6, 7, 4, 7, 2, 7, 4, 5, 3, 1, 3, 4, 0, 7, 7, 5, 4, 3, 0, 7, 8, 7, 2, 7, 0, 2, 0, 7, 3, 4, 9, 0, 0, 8, 3, 4, 9, 0, 8, 4, 3, 0, 0, 7, 0, 4, 7, 4, 6, 7, 0, 7, 0, 0, 3, 0, 4, 4, 8, 6, 0, 0, 4, 0, 4, 5, 4, 7, 5, 7, 0, 4, 4, 3, 2, 3, 0, 0, 0, 7, 0, 0, 9, 0, 0, 6, 0, 0, 4, 0, 4, 3, 0, 0, 0, 0, 7, 0, 3, 4, 2, 0, 0, 7, 0, 0, 0, 0, 8, 4, 0, 0, 0, 9, 7, 0, 7, 0, 0, 0, 7, 0, 4, 7, 4, 0, 0, 3, 0, 4, 8, 0, 4, 0, 3, 4, 4, 0, 4, 0, 4, 7, 7, 0, 0, 7, 4, 4, 4, 0, 4, 4, 4, 4, 0, 4, 3, 1, 0, 1, 7, 6, 6, 4, 7, 4, 3, 3, 1, 7, 0, 4, 8, 5, 0, 4, 1, 6, 3, 4, 4, 0, 0, 0, 3, 0, 4, 4, 0, 0, 4, 0, 4, 6, 0, 9, 0, 4, 4, 0, 7, 6, 0, 4, 0, 4, 0, 3, 6, 0, 0, 4, 3, 1, 0, 1, 4, 4, 9, 0, 1, 1, 0, 0, 0, 4, 4, 0, 4, 4, 4, 0, 0, 4, 0, 4, 4, 0, 2, 0, 4, 4, 0, 6, 3, 0, 0, 4, 4, 5, 6, 4, 4, 4, 3, 0, 6, 9, 0, 4, 0, 0, 4, 0, 1, 0, 0, 4, 0, 0, 4, 0, 0]\n"
     ]
    }
   ],
   "source": [
    "print(ad_selected)"
   ]
  },
  {
   "cell_type": "code",
   "execution_count": 34,
   "metadata": {},
   "outputs": [
    {
     "name": "stdout",
     "output_type": "stream",
     "text": [
      "88\n"
     ]
    }
   ],
   "source": [
    "print(tol_rew)"
   ]
  },
  {
   "cell_type": "code",
   "execution_count": 35,
   "metadata": {},
   "outputs": [
    {
     "data": {
      "image/png": "[encoded data removed]",
      "text/plain": [
       "<Figure size 640x480 with 1 Axes>"
      ]
     },
     "metadata": {},
     "output_type": "display_data"
    }
   ],
   "source": [
    "plt.hist(ad_selected)\n",
    "plt.title('Ads vs Number of selections:')\n",
    "plt.xlabel('Ads')\n",
    "plt.ylabel('Number of times selected')\n",
    "plt.show()"
   ]
  }
 ],
 "metadata": {
  "kernelspec": {
   "display_name": "base",
   "language": "python",
   "name": "python3"
  },
  "language_info": {
   "codemirror_mode": {
    "name": "ipython",
    "version": 3
   },
   "file_extension": ".py",
   "mimetype": "text/x-python",
   "name": "python",
   "nbconvert_exporter": "python",
   "pygments_lexer": "ipython3",
   "version": "3.12.7"
  }
 },
 "nbformat": 4,
 "nbformat_minor": 2
}
