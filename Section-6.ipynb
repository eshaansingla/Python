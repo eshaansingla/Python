{
 "cells": [
  {
   "cell_type": "code",
   "execution_count": 41,
   "metadata": {},
   "outputs": [],
   "source": [
    "mylist=[1,2,3]"
   ]
  },
  {
   "cell_type": "code",
   "execution_count": null,
   "metadata": {},
   "outputs": [
    {
     "name": "stdout",
     "output_type": "stream",
     "text": [
      "120\n"
     ]
    }
   ],
   "source": [
    "def factorial(a):\n",
    "    if (a==1 or a==0):\n",
    "        return 1\n",
    "    else :\n",
    "        return a*factorial(a-1)\n",
    "x=input('Enter a number')\n",
    "print(factorial(int(x)))"
   ]
  },
  {
   "cell_type": "code",
   "execution_count": 19,
   "metadata": {},
   "outputs": [
    {
     "name": "stdout",
     "output_type": "stream",
     "text": [
      "[4, 2] [6]\n"
     ]
    }
   ],
   "source": [
    "def check(myList):\n",
    "    even=[]\n",
    "    for i in myList:\n",
    "        if i%2==0:\n",
    "            even.append(i)\n",
    "        else:\n",
    "            pass\n",
    "    return even\n",
    "print(check([1,9,4,3,2,5]),check([1,6,3,5,7]))"
   ]
  },
  {
   "cell_type": "code",
   "execution_count": 24,
   "metadata": {},
   "outputs": [
    {
     "name": "stdout",
     "output_type": "stream",
     "text": [
      "('Person 1', 200)\n"
     ]
    }
   ],
   "source": [
    "def employeeOfTheMonth(candidates):\n",
    "    hrs=0\n",
    "    name=''\n",
    "    for i,j in candidates:\n",
    "        if j>hrs:\n",
    "            hrs=j\n",
    "            name=i\n",
    "        else:\n",
    "            continue\n",
    "    return (name,hrs)\n",
    "workhrs=[('Person 1',200),('Person 2',100),('Person 3',50),('Person 4',120)]\n",
    "print(employeeOfTheMonth(workhrs))"
   ]
  },
  {
   "cell_type": "code",
   "execution_count": 50,
   "metadata": {},
   "outputs": [
    {
     "name": "stdout",
     "output_type": "stream",
     "text": [
      "Nah XD\n",
      "Correct Choice!\n"
     ]
    }
   ],
   "source": [
    "from random import shuffle\n",
    "def choose(choices):\n",
    "    shuffle(choices)\n",
    "    return choices[0]\n",
    "glass=[1,2,3]\n",
    "boo=True\n",
    "while boo:\n",
    "    x=int(input('Enter your choice:'))\n",
    "    if x==choose(glass):\n",
    "        print('Correct Choice!')\n",
    "        boo=False\n",
    "    else:\n",
    "        print('Nah XD')\n",
    "\n"
   ]
  },
  {
   "cell_type": "code",
   "execution_count": 57,
   "metadata": {},
   "outputs": [
    {
     "name": "stdout",
     "output_type": "stream",
     "text": [
      "{'name': 'Eshaan'}\n",
      "Hi Eshaan\n",
      "Odd\n",
      "2\n",
      "Odd\n",
      "Odd\n",
      "4\n",
      "Odd\n",
      "Odd\n",
      "Odd\n",
      "6\n",
      "6\n",
      "6\n"
     ]
    }
   ],
   "source": [
    "def func(*args):\n",
    "    for i in args:\n",
    "        if  i%2==0:\n",
    "            print(i)\n",
    "        else:\n",
    "            print('Odd')\n",
    "def fun(**kwargs):\n",
    "    print(kwargs)\n",
    "    if 'name' in kwargs:\n",
    "        print(f'Hi {kwargs[\"name\"]}')\n",
    "fun(name='Eshaan')\n",
    "func(1,2,3,3,4,5,9,5,6,6,6)"
   ]
  },
  {
   "cell_type": "code",
   "execution_count": 61,
   "metadata": {},
   "outputs": [
    {
     "data": {
      "text/plain": [
       "2"
      ]
     },
     "execution_count": 61,
     "metadata": {},
     "output_type": "execute_result"
    }
   ],
   "source": [
    "def even(a,b):\n",
    "    if a%2==0 and b%2==0:\n",
    "        if a>b:\n",
    "            return a\n",
    "        else: return b\n",
    "    else:\n",
    "        if a>b:\n",
    "            return b\n",
    "        else: return a\n",
    "even(2,5)  "
   ]
  },
  {
   "cell_type": "code",
   "execution_count": 152,
   "metadata": {},
   "outputs": [
    {
     "data": {
      "text/plain": [
       "True"
      ]
     },
     "execution_count": 152,
     "metadata": {},
     "output_type": "execute_result"
    }
   ],
   "source": [
    "def check(*str):\n",
    "    for s in str:\n",
    "        for i in range(0,len(s)-1):\n",
    "            if s[i]==\" \" and s[i+1]==s[0]:\n",
    "                    return True\n",
    "        return False\n",
    "check('Laughing Lahma')"
   ]
  },
  {
   "cell_type": "code",
   "execution_count": 90,
   "metadata": {},
   "outputs": [
    {
     "name": "stdout",
     "output_type": "stream",
     "text": [
      "MacDonald\n"
     ]
    }
   ],
   "source": [
    "def cap(str):\n",
    "    res=''\n",
    "    cnt=0\n",
    "    for i in str:\n",
    "        if cnt==0 or cnt==3:\n",
    "            res+=i.upper()\n",
    "        else:\n",
    "            res+=i.lower()\n",
    "        cnt+=1\n",
    "    return res\n",
    "print(cap('macdonald'))"
   ]
  },
  {
   "cell_type": "code",
   "execution_count": 93,
   "metadata": {},
   "outputs": [
    {
     "data": {
      "text/plain": [
       "'try no or try'"
      ]
     },
     "execution_count": 93,
     "metadata": {},
     "output_type": "execute_result"
    }
   ],
   "source": [
    "def yoda(str):\n",
    "    return ' '.join(str.split()[::-1])\n",
    "yoda('try or no try')\n"
   ]
  },
  {
   "cell_type": "code",
   "execution_count": 96,
   "metadata": {},
   "outputs": [
    {
     "data": {
      "text/plain": [
       "True"
      ]
     },
     "execution_count": 96,
     "metadata": {},
     "output_type": "execute_result"
    }
   ],
   "source": [
    "def no(num):\n",
    "    if (num>=190 and num<=210)or(num>=90 and num<=110):\n",
    "        return True\n",
    "    return False\n",
    "no(100)"
   ]
  },
  {
   "cell_type": "code",
   "execution_count": 114,
   "metadata": {},
   "outputs": [
    {
     "data": {
      "text/plain": [
       "False"
      ]
     },
     "execution_count": 114,
     "metadata": {},
     "output_type": "execute_result"
    }
   ],
   "source": [
    "def some(l):\n",
    "    for i in range(0,len(l)):\n",
    "        if l[i]==3 and l[i-1]==3:\n",
    "            return True\n",
    "    return False\n",
    "some([1,2,3,1,2,3,2,2,3,2])"
   ]
  },
  {
   "cell_type": "code",
   "execution_count": 117,
   "metadata": {},
   "outputs": [
    {
     "data": {
      "text/plain": [
       "'MMMiiissssssiiissssssiiippppppiii'"
      ]
     },
     "execution_count": 117,
     "metadata": {},
     "output_type": "execute_result"
    }
   ],
   "source": [
    "def paper_doll(text):\n",
    "    res=''\n",
    "    for i in text:\n",
    "        res+=i*3\n",
    "    return res\n",
    "paper_doll('Mississippi')"
   ]
  },
  {
   "cell_type": "code",
   "execution_count": 129,
   "metadata": {},
   "outputs": [
    {
     "name": "stdout",
     "output_type": "stream",
     "text": [
      "18\n",
      "BUST\n",
      "19\n"
     ]
    }
   ],
   "source": [
    "def what(a,b,c):\n",
    "    if a>1 and b>1 and c>1 and a<=11 and b<=11 and c<=11:\n",
    "        if a+b+c<=21:\n",
    "            return a+b+c\n",
    "        elif a+b+c>21 and (a==11 or b==11 or c==11):\n",
    "            if a+b+c-10>21:\n",
    "                return 'BUST'\n",
    "            else :\n",
    "                return a+b+c-10\n",
    "        else:\n",
    "            return 'BUST'\n",
    "print(what(5,6,7))\n",
    "print(what(9,9,9))\n",
    "print(what(9,9,11))\n"
   ]
  },
  {
   "cell_type": "code",
   "execution_count": 133,
   "metadata": {},
   "outputs": [
    {
     "name": "stdout",
     "output_type": "stream",
     "text": [
      "9\n",
      "9\n",
      "14\n"
     ]
    }
   ],
   "source": [
    "def sumfun(newl):\n",
    "    b=True\n",
    "    sum=0\n",
    "    for i in newl:\n",
    "        if i==6: b=False\n",
    "        if b:\n",
    "            sum+=i\n",
    "        if i==9:b=True\n",
    "    return sum\n",
    "print(sumfun([1, 3, 5]))\n",
    "print(sumfun([4, 5, 6, 7, 8, 9]))\n",
    "print(sumfun([2, 1, 6, 9, 11]))\n",
    "\n"
   ]
  },
  {
   "cell_type": "code",
   "execution_count": 159,
   "metadata": {},
   "outputs": [
    {
     "name": "stdout",
     "output_type": "stream",
     "text": [
      "[2, 3, 4, 5, 7, 11, 13, 17, 19, 23, 29, 31, 37, 41, 43, 47, 53, 59, 61, 67, 71, 73, 79, 83, 89, 97]\n"
     ]
    }
   ],
   "source": [
    "def prime(nums):\n",
    "    res=[]\n",
    "    b=1\n",
    "    for j in range(2,nums):\n",
    "        for i in range(2,int(j/2)):\n",
    "            if(j%i==0):\n",
    "                b=0\n",
    "                break\n",
    "        if b==1:\n",
    "            res.append(j)\n",
    "        else:\n",
    "            b=1\n",
    "    print(res)\n",
    "    return\n",
    "prime(100)"
   ]
  },
  {
   "cell_type": "code",
   "execution_count": 166,
   "metadata": {},
   "outputs": [
    {
     "name": "stdout",
     "output_type": "stream",
     "text": [
      "[2, 3, 4, 5, 7]\n",
      "[2, 3, 4, 5, 7, 11, 13, 17, 19, 23, 29, 31, 37, 41, 43, 47]\n",
      "[2, 3, 4, 5, 7, 11, 13, 17, 19, 23, 29, 31, 37, 41, 43, 47, 53, 59, 61, 67, 71, 73, 79, 83, 89, 97]\n"
     ]
    },
    {
     "data": {
      "text/plain": [
       "[None, None, None]"
      ]
     },
     "execution_count": 166,
     "metadata": {},
     "output_type": "execute_result"
    }
   ],
   "source": [
    "lisht=[10,50,100]\n",
    "list(map(prime,lisht))"
   ]
  },
  {
   "cell_type": "code",
   "execution_count": 169,
   "metadata": {},
   "outputs": [
    {
     "data": {
      "text/plain": [
       "9"
      ]
     },
     "execution_count": 169,
     "metadata": {},
     "output_type": "execute_result"
    }
   ],
   "source": [
    "square=lambda num:num**2\n",
    "square(3)"
   ]
  },
  {
   "cell_type": "code",
   "execution_count": null,
   "metadata": {},
   "outputs": [],
   "source": []
  }
 ],
 "metadata": {
  "kernelspec": {
   "display_name": "base",
   "language": "python",
   "name": "python3"
  },
  "language_info": {
   "codemirror_mode": {
    "name": "ipython",
    "version": 3
   },
   "file_extension": ".py",
   "mimetype": "text/x-python",
   "name": "python",
   "nbconvert_exporter": "python",
   "pygments_lexer": "ipython3",
   "version": "3.12.7"
  }
 },
 "nbformat": 4,
 "nbformat_minor": 2
}
